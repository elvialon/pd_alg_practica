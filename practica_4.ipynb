{
 "cells": [
  {
   "cell_type": "code",
   "execution_count": null,
   "metadata": {},
   "outputs": [],
   "source": [
    "nombre = \"Elvira Alonso González\"\n",
    "if nombre == \"\":\n",
    "    print(\"Rellena tu nombre completo!\")\n",
    "else:\n",
    "    print(\"Gracias\", nombre, \":)\")"
   ]
  },
  {
   "cell_type": "code",
   "execution_count": null,
   "metadata": {},
   "outputs": [],
   "source": [
    "#Librerías:\n",
    "\n",
    "import numpy as np\n",
    "import pandas as pd\n",
    "import seaborn as sns\n",
    "import matplotlib.pyplot as plt\n",
    "\n",
    "from sklearn.preprocessing import LabelEncoder\n",
    "from sklearn.model_selection import GridSearchCV"
   ]
  },
  {
   "cell_type": "markdown",
   "metadata": {},
   "source": [
    "## Práctica 4: dataset libre\n",
    "\n"
   ]
  },
  {
   "cell_type": "markdown",
   "metadata": {},
   "source": [
    "En esta práctica tendrás que elegir tu propio conjunto de datos y realizar una tarea de clasificación o regresión.\n",
    "\n",
    "Para ello, se plantean distintas fases que puedes utilizar como pautas a la hora de realizarla.\n",
    "\n",
    "Aquí van algunas referencias donde se pueden encontrar datasets:\n",
    "\n",
    "* https://www.kaggle.com/datasets \n",
    "\n",
    "* https://archive.ics.uci.edu/ml/index.php\n",
    "\n",
    "* https://datasetsearch.research.google.com\n",
    "\n",
    "* También se puede usar algún dataset de otra asignatura (pero no visto en AMUL!)\n",
    "\n",
    "* O generarlo vosotros mismos (por ej. a partir de sensores/wearables, señal GPS al salir a correr, gastos e ingresos bancarios etc etc)\n",
    "\n",
    "Por normal general, deberían tener más de 1000 observaciones.\n",
    "\n",
    "El resultado de esta fase debería ser uno o varios .csv (u otro formato como excel) con todos los datos que usarás."
   ]
  },
  {
   "cell_type": "markdown",
   "metadata": {},
   "source": [
    "### 0. Elección de dataset\n",
    "\n",
    "Para este trabajo hemos elegido el data set Diamonds (https://www.kaggle.com/shivam2503/diamonds). Es un conjunto de datos clásico que contiene observaciones de distintos atributos de casi 54,000 diamantes.\n",
    "\n",
    "Las distintas variables que encontraremos en el dataset son:\n",
    "\n",
    "* price: precio en dólares (de 326 a 18,823)\n",
    "\n",
    "* carat: quitales del diamante (de 0.2 a 5.01)\n",
    "\n",
    "* cut: calidad del corte (Fair, Good, Very Good, Premium, Ideal)\n",
    " \n",
    "* color: color del diamante, de J (el peor) a D (el mejor)\n",
    "\n",
    "* clarity: medida de la claridad del diamante (I1 (peor), SI2, SI1, VS2, VS1, VVS2, VVS1, IF (mejor))\n",
    "\n",
    "* depth: altura del diamante expresada como porcentaje del diámtro medio (de 43 a 79)\n",
    "\n",
    "* table: mayor ancho del diamante expresado como un porcentaje de su diámetro promedio (de 43 a 95)\n",
    "\n",
    "* x: altura in mm (de 0 a 10.74)\n",
    "\n",
    "* y: ancho in mm (de 0 a 58.9)\n",
    "\n",
    "* z: profundidad in mm (de 0 a 31.8)\n",
    "\n",
    "\n",
    "Este dataset es interesante tanto para regresión (p.e. sobre el precio) como para clasificación. En nuestro caso realizaremos un análisis de clásificación según la variable 'cut', es decir, veremos si las demás carácterísticas del diamante condicionan la calidad del corte que se le realice. Debido a que el precio es una carácterística posterior (está determinada por la cualidades generales del diamante, pero no al revés) parece razonable eliminarla del análisis. Por otra parte, las variables 'depth' y 'table' son interacciones **no lineales** de 'x', 'y' y 'z', por lo que conservaremos todas ellas. \n"
   ]
  },
  {
   "cell_type": "code",
   "execution_count": null,
   "metadata": {},
   "outputs": [],
   "source": [
    "#Cargamos el csv\n",
    "diamonds = pd.read_csv(\"diamonds.csv\", nrows=53940)"
   ]
  },
  {
   "cell_type": "code",
   "execution_count": null,
   "metadata": {},
   "outputs": [],
   "source": [
    "diamonds.columns"
   ]
  },
  {
   "cell_type": "code",
   "execution_count": null,
   "metadata": {},
   "outputs": [],
   "source": [
    "#Eliminamos la columna de índices que venía en el csv\n",
    "diamonds = diamonds.drop('Unnamed: 0',axis=1)"
   ]
  },
  {
   "cell_type": "code",
   "execution_count": null,
   "metadata": {},
   "outputs": [],
   "source": [
    "diamonds.head() #depth y table son interaciones no lineales de x,y,z"
   ]
  },
  {
   "cell_type": "markdown",
   "metadata": {},
   "source": [
    "### 1. Exploración y tratamiento de datos"
   ]
  },
  {
   "cell_type": "code",
   "execution_count": null,
   "metadata": {},
   "outputs": [],
   "source": [
    "#Comprobamos que no hay valores ausentes en ninguna de las columnas.\n",
    "ausentes=diamonds.isnull().sum()\n",
    "ausentes"
   ]
  },
  {
   "cell_type": "code",
   "execution_count": null,
   "metadata": {},
   "outputs": [],
   "source": [
    "df = diamonds"
   ]
  },
  {
   "cell_type": "code",
   "execution_count": null,
   "metadata": {},
   "outputs": [],
   "source": [
    "#Para poder aplicar los distintos modelos las columnas cut, color y clarity deben ser expresadas numéricamente.\n",
    "le = LabelEncoder()"
   ]
  },
  {
   "cell_type": "markdown",
   "metadata": {},
   "source": [
    "En las columnas 'cut' y 'clarity' decidimos no usar LabelEncoder porque al ordenar alfabéticamente las categorias perdemos el orden original."
   ]
  },
  {
   "cell_type": "code",
   "execution_count": null,
   "metadata": {},
   "outputs": [],
   "source": [
    "df['cut'] = df['cut'].apply(lambda x: ['Fair','Good','Very Good', 'Premium', 'Ideal'].index(x))\n",
    "print('Fair, Good, Very Good, Premium, Ideal se corresponden con los números del 0 al 4 respectivamente.')"
   ]
  },
  {
   "cell_type": "code",
   "execution_count": null,
   "metadata": {},
   "outputs": [],
   "source": [
    "df.color = le.fit_transform(diamonds.color)\n",
    "print(list(le.classes_), 'se corresponden con los números del 0 al 6 respectivamente.')"
   ]
  },
  {
   "cell_type": "code",
   "execution_count": null,
   "metadata": {},
   "outputs": [],
   "source": [
    "df['clarity'] = df['clarity'].apply(lambda x: ['I1', 'SI2', 'SI1', 'VS2', 'VS1', 'VVS2', 'VVS1', 'IF'].index(x))\n",
    "print('I1 (peor), SI2, SI1, VS2, VS1, VVS2, VVS1, IF (mejor) se corresponden con los números del 0 al 7 respectivamente.')"
   ]
  },
  {
   "cell_type": "code",
   "execution_count": null,
   "metadata": {},
   "outputs": [],
   "source": [
    "df.head()"
   ]
  },
  {
   "cell_type": "code",
   "execution_count": null,
   "metadata": {},
   "outputs": [],
   "source": [
    "fig, ([ax1,ax2,ax3],[ax4,ax5, ax6]) = plt.subplots(nrows = 2, ncols=3, figsize=(20,10))   \n",
    "\n",
    "ax1.hist(df.cut, label=['0:Fair, 1:Good, 2:Very good, 3:Premium, 4:Ideal'], range = (-0.75,4.25))\n",
    "ax1.set_xticks([0,1,2,3,4])\n",
    "ax1.legend(loc=0)\n",
    "ax1.set_title('Clasificación por corte')\n",
    "\n",
    "ax2.hist(df.carat, bins = 15)\n",
    "ax2.set_title('Clasificación por quilates')\n",
    "\n",
    "ax3.hist(df.color, label=['0:Mejor color, 6:Peor color'], bins = 14, range = (-0.75,6.25))\n",
    "ax3.set_xticks([0,1,2,3,4,5,6])\n",
    "ax3.legend(loc=0)\n",
    "ax3.set_title('Clasificación por color')\n",
    "\n",
    "ax4.hist(df.clarity, label=['0:Peor claridad, 7:Mejor claridad'], bins = 16, range = (-0.75,7.25))\n",
    "ax4.set_xticks([0,1,2,3,4,5,6,7])\n",
    "ax4.legend(loc=0)\n",
    "ax4.set_title('Clasificación por claridad')\n",
    "                            \n",
    "ax5.hist(df.depth, bins=15)\n",
    "ax5.set_title('Clasificación por altura relativa')\n",
    "                            \n",
    "ax6.hist(df.table, bins=15)\n",
    "ax6.set_title('Clasificación por ancho relativo');"
   ]
  },
  {
   "cell_type": "code",
   "execution_count": null,
   "metadata": {},
   "outputs": [],
   "source": [
    "#A continuación mostramos los principales estadísticos de las variables\n",
    "df.describe()"
   ]
  },
  {
   "cell_type": "code",
   "execution_count": null,
   "metadata": {},
   "outputs": [],
   "source": [
    "#Veamos, para cada tipo de corte, la media de las características cuantitativas de los diamantes.\n",
    "df_res = pd.pivot_table(df, values=['carat', 'depth', 'table', 'x','y','z'], index='cut', aggfunc=np.mean)\n",
    "df_res['']=['Fair', 'Good', 'Very Good', 'Premium', 'Ideal'] \n",
    "#añadimos una columna con las cateogrías de calidad de corte correspodientes a cada número\n",
    "\n",
    "cols = df_res.columns.tolist()\n",
    "cols = cols[-1:] + cols[:-1] #ponemos la columna al lado de cut\n",
    "\n",
    "df_res[cols] "
   ]
  },
  {
   "cell_type": "code",
   "execution_count": null,
   "metadata": {},
   "outputs": [],
   "source": [
    "#Separamos la columna correspondiente a la variable dependiente de las explicativas\n",
    "y = df.iloc[:,1]\n",
    "X = df.drop(['cut','price'], axis=1)"
   ]
  },
  {
   "cell_type": "markdown",
   "metadata": {},
   "source": [
    "Vamos a seleccionar un conjunto 'equilibrado' (mediante el stratify) para, más tarde, analizar las predicciones que hace el modelo sobre él. \n",
    "\n",
    "¿Por qué 'equilibrado'? En la representación gráfica vimos que los cortes Fair y Good son menos frecuentes. Por tanto, si seleccionamos un fragmendo cualquiera podrían no aparecer. Como ejemplo parece más interesante evaluar el modelo en un dataframe que contenga todos los tipos de corte."
   ]
  },
  {
   "cell_type": "code",
   "execution_count": null,
   "metadata": {},
   "outputs": [],
   "source": [
    "from sklearn.model_selection import train_test_split\n",
    "\n",
    "X, X_2, y, y_2 = train_test_split(X,y, test_size = 0.1, stratify=y)"
   ]
  },
  {
   "cell_type": "markdown",
   "metadata": {},
   "source": [
    "Separamos en train y test para un análisis preliminar de los resultados de los modelos."
   ]
  },
  {
   "cell_type": "code",
   "execution_count": null,
   "metadata": {},
   "outputs": [],
   "source": [
    "X_train, X_test, y_train, y_test =train_test_split(X,y)"
   ]
  },
  {
   "cell_type": "markdown",
   "metadata": {},
   "source": [
    "### 2. Uso y validación de modelos\n",
    "\n",
    "Bansádonos ahora en ```scikit-learn``` comparamos cuatro modelos de clasificación distintos para predecir la calidad del corte en función de las demás variables (excepto el precio):\n",
    "\n",
    "* Decision Tree Classifier\n",
    "* Random Forest Classifier\n",
    "* Gradient Boosting Classifier\n",
    "* MLP Classifier\n",
    "\n",
    "En primer lugar probaremos los cuatro modelos de forma preliminar y, según las precisiones obtenidas, haremos una validación cruzada en más profundidad en los modelos que parezcan ser más fiables.\n",
    "\n",
    "Decidimos, porque creemos más conveniente, no reducir la dimensionalidad de los datos ni realizar un escalado."
   ]
  },
  {
   "cell_type": "code",
   "execution_count": null,
   "metadata": {},
   "outputs": [],
   "source": [
    "from sklearn.tree import DecisionTreeClassifier\n",
    "\n",
    "model =DecisionTreeClassifier()\n",
    "model.fit(X_train, y_train)\n",
    "\n",
    "model.score(X_test,y_test)"
   ]
  },
  {
   "cell_type": "markdown",
   "metadata": {},
   "source": [
    "RandomForestClassifier es un \"meta-estimador\" que se ajusta a varios árboles de clasificación en varias submuestras del data frame y utiliza el promedio para mejorar la precisión predictiva y controlar el sobreajuste."
   ]
  },
  {
   "cell_type": "code",
   "execution_count": null,
   "metadata": {},
   "outputs": [],
   "source": [
    "from sklearn.ensemble import RandomForestClassifier\n",
    "\n",
    "model = RandomForestClassifier()\n",
    "model.fit(X_train, y_train)\n",
    "\n",
    "model.score(X_test,y_test)"
   ]
  },
  {
   "cell_type": "markdown",
   "metadata": {},
   "source": [
    "GradientBoostingClassifier construye un modelo *forward* aditivo por etapas; permite la optimización de la función de pérdida. En cada etapa, los árboles de regresión se ajustan en el gradiente negativo de la función de pérdida."
   ]
  },
  {
   "cell_type": "code",
   "execution_count": null,
   "metadata": {},
   "outputs": [],
   "source": [
    "from sklearn.ensemble import GradientBoostingClassifier\n",
    "\n",
    "model = GradientBoostingClassifier()\n",
    "model.fit(X_train, y_train)\n",
    "\n",
    "model.score(X_test,y_test)"
   ]
  },
  {
   "cell_type": "markdown",
   "metadata": {},
   "source": [
    "Multi-layer Perceptron classifier optimiza la función de pérdida usando como solver LBFGS, stochastic gradient descent o adam (adam por defecto)."
   ]
  },
  {
   "cell_type": "code",
   "execution_count": null,
   "metadata": {},
   "outputs": [],
   "source": [
    "from sklearn.neural_network import MLPClassifier #Redes neuronales\n",
    "\n",
    "model = MLPClassifier(max_iter=500)\n",
    "model.fit(X_train, y_train)\n",
    "\n",
    "model.score(X_test,y_test)"
   ]
  },
  {
   "cell_type": "markdown",
   "metadata": {},
   "source": [
    "Según las accuracies obtenidas, decidimos analizar más detenidamente la aplicación del Random Forest Classifier [0.783] y el Gradient Boosting Classifier [0.767].\n",
    "\n",
    "Observación: durante la creación del código este proceso se ha realizado varias veces con distintos conjuntos de train y test (en concreto, 7) y siempre se ha obtienido el mismo orden de los modelos según la accuracy. El modelo que más variaciones ha experimentado es la red neuronal (MLP Classifier), habiendo obtenido una accuracy máxima de 0.722 y una mínima de 0.581. No sabemos por qué funciona peor que los demás modelos, ya que las NN actúan como cajas negras. Quizá ajustando los parámetros de la red podría mejorarse algo el resultado, sin embargo, creemos más razonable centrarnos en los dos modelos anteriormente mencionados."
   ]
  },
  {
   "cell_type": "markdown",
   "metadata": {},
   "source": [
    "### Ajuste de parámetros\n",
    "#### Random Forest Classifier:"
   ]
  },
  {
   "cell_type": "code",
   "execution_count": null,
   "metadata": {},
   "outputs": [],
   "source": [
    "model = RandomForestClassifier(n_jobs=-1)\n",
    "\n",
    "grid = {'max_depth': [5,10,20,50], \"n_estimators\": [200, 300, 400]}\n",
    "\n",
    "cv = GridSearchCV(estimator=model, param_grid=grid, scoring='accuracy',cv=10, n_jobs=-1)\n",
    "\n",
    "cv.fit(X, y)\n",
    "\n",
    "cv.best_score_, cv.best_params_"
   ]
  },
  {
   "cell_type": "markdown",
   "metadata": {},
   "source": [
    "#### Gradient Boosting Classifier:"
   ]
  },
  {
   "cell_type": "code",
   "execution_count": null,
   "metadata": {},
   "outputs": [],
   "source": [
    "model = GradientBoostingClassifier()\n",
    "\n",
    "grid = {'max_depth':[3,5,8], \"n_estimators\":[200, 300]}\n",
    "\n",
    "#El tiempo de ejecución es muy alto (aún usando los dos núcleos del procesador),\n",
    "#por lo que decidimos no crear un grid excesivamente grande. \n",
    "\n",
    "cv = GridSearchCV(estimator=model, param_grid=grid, scoring='accuracy',cv=10, n_jobs=-1)\n",
    "\n",
    "cv.fit(X, y)\n",
    "\n",
    "cv.best_score_, cv.best_params_"
   ]
  },
  {
   "cell_type": "code",
   "execution_count": null,
   "metadata": {},
   "outputs": [],
   "source": []
  },
  {
   "cell_type": "code",
   "execution_count": null,
   "metadata": {},
   "outputs": [],
   "source": []
  },
  {
   "cell_type": "code",
   "execution_count": null,
   "metadata": {},
   "outputs": [],
   "source": []
  },
  {
   "cell_type": "markdown",
   "metadata": {},
   "source": [
    "### 3. Conclusiones\n",
    "\n",
    "Incluye un párrafo describiendo lo anterior y la utilidad (o no) de los modelos para tus datos en cuestión, y sus posibles aplicaciones al mundo real."
   ]
  },
  {
   "cell_type": "markdown",
   "metadata": {},
   "source": [
    "### Valoración\n",
    "\n",
    "Esta práctica se valorará con un máximo de 10 puntos, teniendo un peso igual que las tres anteriores (cada práctica es por tanto el 10% de la nota).\n",
    "\n",
    "Para la valoración, se tendrá en cuenta:\n",
    "\n",
    "* Corrección y coherencia del código al dataset seleccionado.\n",
    "\n",
    "* Simplicidad del código (evita bucles innecesarios, utiliza funciones ya implementadas en las librerías en vez de rehacerlas a mano, etc).\n",
    "\n",
    "* Comentarios que expliquen cada paso que haces."
   ]
  },
  {
   "cell_type": "code",
   "execution_count": null,
   "metadata": {},
   "outputs": [],
   "source": []
  }
 ],
 "metadata": {
  "kernelspec": {
   "display_name": "Python [conda env:diamonds]",
   "language": "python",
   "name": "conda-env-diamonds-py"
  },
  "language_info": {
   "codemirror_mode": {
    "name": "ipython",
    "version": 3
   },
   "file_extension": ".py",
   "mimetype": "text/x-python",
   "name": "python",
   "nbconvert_exporter": "python",
   "pygments_lexer": "ipython3",
   "version": "3.10.4"
  }
 },
 "nbformat": 4,
 "nbformat_minor": 4
}
