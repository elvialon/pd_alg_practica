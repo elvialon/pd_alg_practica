{
 "cells": [
  {
   "cell_type": "code",
   "execution_count": null,
   "metadata": {},
   "outputs": [],
   "source": [
    "nombre = \"Elvira Alonso González\"\n",
    "if nombre == \"\":\n",
    "    print(\"Rellena tu nombre completo!\")\n",
    "else:\n",
    "    print(\"Gracias\", nombre, \":)\")"
   ]
  },
  {
   "cell_type": "code",
   "execution_count": null,
   "metadata": {},
   "outputs": [],
   "source": [
    "#Librerías:\n",
    "\n",
    "import numpy as np\n",
    "import pandas as pd\n",
    "import seaborn as sns\n",
    "import matplotlib.pyplot as plt\n",
    "\n",
    "from sklearn.preprocessing import LabelEncoder"
   ]
  },
  {
   "cell_type": "markdown",
   "metadata": {},
   "source": [
    "## Práctica 4: dataset libre\n",
    "\n"
   ]
  },
  {
   "cell_type": "markdown",
   "metadata": {},
   "source": [
    "En esta práctica tendrás que elegir tu propio conjunto de datos y realizar una tarea de clasificación o regresión.\n",
    "\n",
    "Para ello, se plantean distintas fases que puedes utilizar como pautas a la hora de realizarla.\n",
    "\n",
    "Aquí van algunas referencias donde se pueden encontrar datasets:\n",
    "\n",
    "* https://www.kaggle.com/datasets \n",
    "\n",
    "* https://archive.ics.uci.edu/ml/index.php\n",
    "\n",
    "* https://datasetsearch.research.google.com\n",
    "\n",
    "* También se puede usar algún dataset de otra asignatura (pero no visto en AMUL!)\n",
    "\n",
    "* O generarlo vosotros mismos (por ej. a partir de sensores/wearables, señal GPS al salir a correr, gastos e ingresos bancarios etc etc)\n",
    "\n",
    "Por normal general, deberían tener más de 1000 observaciones.\n",
    "\n",
    "El resultado de esta fase debería ser uno o varios .csv (u otro formato como excel) con todos los datos que usarás."
   ]
  },
  {
   "cell_type": "markdown",
   "metadata": {},
   "source": [
    "### 0. Elección de dataset\n",
    "\n",
    "Para este trabajo hemos elegido el data set Diamonds (https://www.kaggle.com/shivam2503/diamonds). Es un conjunto de datos clásico que contiene observaciones de distintos atributos de casi 54,000 diamantes.\n",
    "\n",
    "Las distintas variables que encontraremos en el dataset son:\n",
    "\n",
    "* price: precio en dólares (de 326 a 18,823)\n",
    "\n",
    "* carat: quitales del diamante (de 0.2 a 5.01)\n",
    "\n",
    "* cut: calidad del corte (Fair, Good, Very Good, Premium, Ideal)\n",
    " \n",
    "* color: color del diamante, de J (el peor) a D (el mejor)\n",
    "\n",
    "* clarity: medida de la claridad del diamante (I1 (peor), SI2, SI1, VS2, VS1, VVS2, VVS1, IF (mejor))\n",
    "\n",
    "* depth: altura del diamante expresada como porcentaje del diámtro medio (de 43 a 79)\n",
    "\n",
    "* table: mayor ancho del diamante expresado como un porcentaje de su diámetro promedio (de 43 a 95)\n",
    "\n",
    "* x: altura in mm (de 0 a 10.74)\n",
    "\n",
    "* y: ancho in mm (de 0 a 58.9)\n",
    "\n",
    "* z: profundidad in mm (de 0 a 31.8)\n",
    "\n",
    "\n",
    "Este dataset es interesante tanto para regresión (p.e. sobre el precio) como para clasificación. En nuestro caso realizaremos un análisis de clásificación según la variable 'cut', es decir, veremos si las demás carácterísticas del diamante condicionan la calidad del corte que se le realice. Debido a que el precio es una carácterística posterior (está determinada por la cualidades generales del diamante, pero no al revés) parece razonable eliminarla del análisis. Por otra parte, las variables 'depth' y 'table' son interacciones **no lineales** de 'x', 'y' y 'z', por lo que conservaremos todas ellas. \n"
   ]
  },
  {
   "cell_type": "code",
   "execution_count": null,
   "metadata": {},
   "outputs": [],
   "source": [
    "#Cargamos el csv\n",
    "diamonds = pd.read_csv(\"diamonds.csv\", nrows=53940)"
   ]
  },
  {
   "cell_type": "code",
   "execution_count": null,
   "metadata": {},
   "outputs": [],
   "source": [
    "diamonds.columns"
   ]
  },
  {
   "cell_type": "code",
   "execution_count": null,
   "metadata": {},
   "outputs": [],
   "source": [
    "#Eliminamos la columna de índices que venía en el csv\n",
    "diamonds = diamonds.drop('Unnamed: 0',axis=1)"
   ]
  },
  {
   "cell_type": "code",
   "execution_count": null,
   "metadata": {},
   "outputs": [],
   "source": [
    "diamonds.head() #depth y table son interaciones no lineales de x,y,z"
   ]
  },
  {
   "cell_type": "markdown",
   "metadata": {},
   "source": [
    "### 1. Exploración y tratamiento de datos"
   ]
  },
  {
   "cell_type": "code",
   "execution_count": null,
   "metadata": {},
   "outputs": [],
   "source": [
    "#Comprobamos que no hay valores ausentes en ninguna de las columnas.\n",
    "ausentes=diamonds.isnull().sum()\n",
    "ausentes"
   ]
  },
  {
   "cell_type": "code",
   "execution_count": null,
   "metadata": {},
   "outputs": [],
   "source": [
    "df = diamonds"
   ]
  },
  {
   "cell_type": "code",
   "execution_count": null,
   "metadata": {},
   "outputs": [],
   "source": [
    "#Para poder aplicar los distintos modelos las columnas cut, color y clarity deben ser expresadas numéricamente.\n",
    "le = LabelEncoder()"
   ]
  },
  {
   "cell_type": "markdown",
   "metadata": {},
   "source": [
    "En las columnas 'cut' y 'clarity' decidimos no usar LabelEncoder porque al ordenar alfabéticamente las categorias perdemos el orden original."
   ]
  },
  {
   "cell_type": "code",
   "execution_count": null,
   "metadata": {},
   "outputs": [],
   "source": [
    "df['cut'] = df['cut'].apply(lambda x: ['Fair','Good','Very Good', 'Premium', 'Ideal'].index(x))\n",
    "print('Fair, Good, Very Good, Premium, Ideal se corresponden con los números del 0 al 4 respectivamente.')"
   ]
  },
  {
   "cell_type": "code",
   "execution_count": null,
   "metadata": {},
   "outputs": [],
   "source": [
    "df.color = le.fit_transform(diamonds.color)\n",
    "print(list(le.classes_), 'se corresponden con los números del 0 al 6 respectivamente.')"
   ]
  },
  {
   "cell_type": "code",
   "execution_count": null,
   "metadata": {},
   "outputs": [],
   "source": [
    "df['clarity'] = df['clarity'].apply(lambda x: ['I1', 'SI2', 'SI1', 'VS2', 'VS1', 'VVS2', 'VVS1', 'IF'].index(x))\n",
    "print('I1 (peor), SI2, SI1, VS2, VS1, VVS2, VVS1, IF (mejor) se corresponden con los números del 0 al 7 respectivamente.')"
   ]
  },
  {
   "cell_type": "code",
   "execution_count": null,
   "metadata": {},
   "outputs": [],
   "source": [
    "df.head()"
   ]
  },
  {
   "cell_type": "code",
   "execution_count": null,
   "metadata": {},
   "outputs": [],
   "source": []
  },
  {
   "cell_type": "code",
   "execution_count": null,
   "metadata": {},
   "outputs": [],
   "source": []
  },
  {
   "cell_type": "markdown",
   "metadata": {},
   "source": [
    "### 2. Uso y validación de modelos\n",
    "\n",
    "Basándote ahora en ```scikit-learn``` aplica los modelos que consideres oportunos para ver qué tal predicen.\n",
    "Un esquema podría ser el siguiente:\n",
    "\n",
    "* Probar tres modelos distintos de forma preliminar.\n",
    "\n",
    "* Para el mejor de de los anteriores, hacer ya una CV más en profundidad con búsqueda de hiperparámetros para tratar de mejorarlo.\n",
    "\n",
    "* Si lo consideras razonable, puedes hacer reescalados, reducción de dimensionalidad etc.\n",
    "\n",
    "* Opcionalmente puedes usar modelos no vistos en la asignatura, la lista completa está aquí https://scikit-learn.org/stable/supervised_learning.html\n",
    "\n",
    "* Aunque la extensión de lo anterior es variable: si tus datos son muy fáciles de tratar, puedes profundizar más en esta fase de modelos. Si tus datos son costosos de preprocesar, puedes reducir el número de modelos de esta fase..\n",
    "\n",
    "* Aparte de evaluar alguna métrica, también puedes seleccionar o construir ejemplos concretos y examinar sus predicciones.\n",
    "\n",
    "El resultado de esta fase debería ser unas estimaciones de las métricas que creas convenientes para cada configuración de los modelos. También puedes hacer visualizaciones sobre las métricas."
   ]
  },
  {
   "cell_type": "markdown",
   "metadata": {},
   "source": [
    "### 3. Conclusiones\n",
    "\n",
    "Incluye un párrafo describiendo lo anterior y la utilidad (o no) de los modelos para tus datos en cuestión, y sus posibles aplicaciones al mundo real."
   ]
  },
  {
   "cell_type": "markdown",
   "metadata": {},
   "source": [
    "### Valoración\n",
    "\n",
    "Esta práctica se valorará con un máximo de 10 puntos, teniendo un peso igual que las tres anteriores (cada práctica es por tanto el 10% de la nota).\n",
    "\n",
    "Para la valoración, se tendrá en cuenta:\n",
    "\n",
    "* Corrección y coherencia del código al dataset seleccionado.\n",
    "\n",
    "* Simplicidad del código (evita bucles innecesarios, utiliza funciones ya implementadas en las librerías en vez de rehacerlas a mano, etc).\n",
    "\n",
    "* Comentarios que expliquen cada paso que haces."
   ]
  },
  {
   "cell_type": "code",
   "execution_count": null,
   "metadata": {},
   "outputs": [],
   "source": []
  }
 ],
 "metadata": {
  "kernelspec": {
   "display_name": "Python [conda env:diamonds]",
   "language": "python",
   "name": "conda-env-diamonds-py"
  },
  "language_info": {
   "codemirror_mode": {
    "name": "ipython",
    "version": 3
   },
   "file_extension": ".py",
   "mimetype": "text/x-python",
   "name": "python",
   "nbconvert_exporter": "python",
   "pygments_lexer": "ipython3",
   "version": "3.10.4"
  }
 },
 "nbformat": 4,
 "nbformat_minor": 4
}
