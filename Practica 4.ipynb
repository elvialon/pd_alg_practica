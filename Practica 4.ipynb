{
 "cells": [
  {
   "cell_type": "code",
   "execution_count": 1,
   "metadata": {},
   "outputs": [
    {
     "name": "stdout",
     "output_type": "stream",
     "text": [
      "Rellena tu nombre completo!\n"
     ]
    }
   ],
   "source": [
    "nombre = \"\"\n",
    "if nombre == \"\":\n",
    "    print(\"Rellena tu nombre completo!\")\n",
    "else:\n",
    "    print(\"Gracias\", nombre, \":)\")"
   ]
  },
  {
   "cell_type": "markdown",
   "metadata": {},
   "source": [
    "## Práctica 4: dataset libre\n",
    "\n"
   ]
  },
  {
   "cell_type": "markdown",
   "metadata": {},
   "source": [
    "En esta práctica tendrás que elegir tu propio conjunto de datos y realizar una tarea de clasificación o regresión.\n",
    "\n",
    "Para ello, se plantean distintas fases que puedes utilizar como pautas a la hora de realizarla.\n",
    "\n",
    "### 0. Elección de dataset\n",
    "\n",
    "Aquí van algunas referencias donde se pueden encontrar datasets:\n",
    "\n",
    "* https://www.kaggle.com/datasets \n",
    "\n",
    "* https://archive.ics.uci.edu/ml/index.php\n",
    "\n",
    "* https://datasetsearch.research.google.com\n",
    "\n",
    "* También se puede usar algún dataset de otra asignatura (pero no visto en AMUL!)\n",
    "\n",
    "* O generarlo vosotros mismos (por ej. a partir de sensores/wearables, señal GPS al salir a correr, gastos e ingresos bancarios etc etc)\n",
    "\n",
    "Por normal general, deberían tener más de 1000 observaciones.\n",
    "\n",
    "El resultado de esta fase debería ser uno o varios .csv (u otro formato como excel) con todos los datos que usarás."
   ]
  },
  {
   "cell_type": "markdown",
   "metadata": {},
   "source": [
    "### 1. Exploración y tratamiento de datos"
   ]
  },
  {
   "cell_type": "markdown",
   "metadata": {},
   "source": [
    "Basándote en las librerías ```numpy```, ```pandas``` y ```matplotlib``` haz las operaciones que creas convenientes y te ayuden a comprender mejor tu dataset y la tarea de clasificación/correspondiente. Para ello, algunos tipos de cosas que puedes poner:\n",
    "\n",
    "* Operaciones como estadísticos o filtrados/groupby/merge de pandas para calcular información de interés.\n",
    "\n",
    "* Visualizaciones con matplotlib de alguna(s) columna(s).\n",
    "\n",
    "* \"Arreglo\" de datos: imputación de missings y outliers, calcular nuevas columnas a partir de las originales, etc.\n",
    "\n",
    "El resultado de esta fase debería ser la definición de un conjunto de columnas que usarás como features (X) y otra columna que usarás como variable a predecir (y)."
   ]
  },
  {
   "cell_type": "markdown",
   "metadata": {},
   "source": [
    "### 2. Uso y validación de modelos\n",
    "\n",
    "Basándote ahora en ```scikit-learn``` aplica los modelos que consideres oportunos para ver qué tal predicen.\n",
    "Un esquema podría ser el siguiente:\n",
    "\n",
    "* Probar tres modelos distintos de forma preliminar.\n",
    "\n",
    "* Para el mejor de de los anteriores, hacer ya una CV más en profundidad con búsqueda de hiperparámetros para tratar de mejorarlo.\n",
    "\n",
    "* Si lo consideras razonable, puedes hacer reescalados, reducción de dimensionalidad etc.\n",
    "\n",
    "* Opcionalmente puedes usar modelos no vistos en la asignatura, la lista completa está aquí https://scikit-learn.org/stable/supervised_learning.html\n",
    "\n",
    "* Aunque la extensión de lo anterior es variable: si tus datos son muy fáciles de tratar, puedes profundizar más en esta fase de modelos. Si tus datos son costosos de preprocesar, puedes reducir el número de modelos de esta fase..\n",
    "\n",
    "* Aparte de evaluar alguna métrica, también puedes seleccionar o construir ejemplos concretos y examinar sus predicciones.\n",
    "\n",
    "El resultado de esta fase debería ser unas estimaciones de las métricas que creas convenientes para cada configuración de los modelos. También puedes hacer visualizaciones sobre las métricas."
   ]
  },
  {
   "cell_type": "markdown",
   "metadata": {},
   "source": [
    "### 3. Conclusiones\n",
    "\n",
    "Incluye un párrafo describiendo lo anterior y la utilidad (o no) de los modelos para tus datos en cuestión, y sus posibles aplicaciones al mundo real."
   ]
  },
  {
   "cell_type": "markdown",
   "metadata": {},
   "source": [
    "### Valoración\n",
    "\n",
    "Esta práctica se valorará con un máximo de 10 puntos, teniendo un peso igual que las tres anteriores (cada práctica es por tanto el 10% de la nota).\n",
    "\n",
    "Para la valoración, se tendrá en cuenta:\n",
    "\n",
    "* Corrección y coherencia del código al dataset seleccionado.\n",
    "\n",
    "* Simplicidad del código (evita bucles innecesarios, utiliza funciones ya implementadas en las librerías en vez de rehacerlas a mano, etc).\n",
    "\n",
    "* Comentarios que expliquen cada paso que haces."
   ]
  },
  {
   "cell_type": "code",
   "execution_count": null,
   "metadata": {},
   "outputs": [],
   "source": []
  }
 ],
 "metadata": {
  "kernelspec": {
   "display_name": "Python 3",
   "language": "python",
   "name": "python3"
  },
  "language_info": {
   "codemirror_mode": {
    "name": "ipython",
    "version": 3
   },
   "file_extension": ".py",
   "mimetype": "text/x-python",
   "name": "python",
   "nbconvert_exporter": "python",
   "pygments_lexer": "ipython3",
   "version": "3.7.4"
  }
 },
 "nbformat": 4,
 "nbformat_minor": 4
}
